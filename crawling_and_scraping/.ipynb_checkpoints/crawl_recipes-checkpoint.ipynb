{
 "cells": [
  {
   "cell_type": "code",
   "execution_count": 1,
   "metadata": {
    "ExecuteTime": {
     "end_time": "2018-12-05T09:36:40.333269Z",
     "start_time": "2018-12-05T09:36:40.122099Z"
    }
   },
   "outputs": [],
   "source": [
    "from bs4 import BeautifulSoup\n",
    "import requests\n",
    "import time\n",
    "import os"
   ]
  },
  {
   "cell_type": "code",
   "execution_count": 2,
   "metadata": {
    "ExecuteTime": {
     "end_time": "2018-12-04T13:53:18.050748Z",
     "start_time": "2018-12-04T13:53:18.041771Z"
    },
    "code_folding": []
   },
   "outputs": [],
   "source": [
    "def download_and_save_html(urls, interval, dir_name):\n",
    "    \"\"\"\n",
    "    urlsに入っているurlからhtmlファイルをダウンロードし、\n",
    "    page1.html, page2.html, ...としてディレクトリdir_nameの中に保存する\n",
    "    intervalはダウンロード間隔\n",
    "    このダウンロードには少なくともlen(urls) * interval秒かかる\n",
    "    \"\"\"\n",
    "    for n, url in enumerate(urls, start=1):\n",
    "        time.sleep(interval)  # サーバーに負荷をかけないように時間間隔を設ける\n",
    "        text = requests.get(url).text\n",
    "        file_name = 'page{}.html'.format(n)\n",
    "        path = os.path.join(dir_name, file_name)\n",
    "        with open(path, 'w') as f:\n",
    "            f.write(text)"
   ]
  },
  {
   "cell_type": "code",
   "execution_count": 3,
   "metadata": {
    "ExecuteTime": {
     "end_time": "2018-12-04T13:53:23.904382Z",
     "start_time": "2018-12-04T13:53:23.897986Z"
    }
   },
   "outputs": [],
   "source": [
    "def get_recipe_urls(path_to_html):\n",
    "    \"\"\"\n",
    "    cookpadの検索結果ページのhtmlから\n",
    "    各レシピのurlのリストを返す\n",
    "    \"\"\"\n",
    "    with open(path_to_html, 'r') as f:\n",
    "        soup = BeautifulSoup(f)\n",
    "    tags_a = soup.find_all('a', class_='recipe-title font13 ')\n",
    "    urls = ['https://cookpad.com' + tag_a.get('href') for tag_a in tags_a]\n",
    "    return urls"
   ]
  },
  {
   "cell_type": "code",
   "execution_count": 4,
   "metadata": {
    "ExecuteTime": {
     "end_time": "2018-12-04T13:54:36.444722Z",
     "start_time": "2018-12-04T13:54:06.632824Z"
    }
   },
   "outputs": [],
   "source": [
    "# ダウンロードしたすべて検索結果からレシピのページへのurlを\n",
    "# 取得し、recipe_urlsにまとめる\n",
    "n_search_results = 2\n",
    "paths = ['search_results/page{}.html'.format(n) \\\n",
    "         for n in range(1, n_search_results+1)]\n",
    "recipe_urls = []\n",
    "for path in paths:\n",
    "    recipe_urls.extend(get_recipe_urls(path))"
   ]
  },
  {
   "cell_type": "code",
   "execution_count": 5,
   "metadata": {
    "ExecuteTime": {
     "end_time": "2018-12-04T13:55:08.079555Z",
     "start_time": "2018-12-04T13:55:08.073373Z"
    }
   },
   "outputs": [],
   "source": [
    "# 検索結果ページに含まれるレシピの件数は10のため、\n",
    "# レシピの総件数はn_search_results*10となる\n",
    "assert len(recipe_urls) == n_search_results*10"
   ]
  },
  {
   "cell_type": "code",
   "execution_count": 6,
   "metadata": {
    "ExecuteTime": {
     "start_time": "2018-12-04T14:04:39.636Z"
    }
   },
   "outputs": [],
   "source": [
    "# レシピのhtmlを保存するディレクトリを作る\n",
    "os.makedirs('recipes', exist_ok=True)\n",
    "\n",
    "# すべてのレシピのhtmlをダウンロードする。\n",
    "# たとえば、n_search_results = 500なら、\n",
    "# n_search_results*10 = 5000秒　= 84分ほどかかる。\n",
    "download_and_save_html(urls=recipe_urls, interval=1, dir_name='recipes')"
   ]
  }
 ],
 "metadata": {
  "kernelspec": {
   "display_name": "Python 3",
   "language": "python",
   "name": "python3"
  },
  "language_info": {
   "codemirror_mode": {
    "name": "ipython",
    "version": 3
   },
   "file_extension": ".py",
   "mimetype": "text/x-python",
   "name": "python",
   "nbconvert_exporter": "python",
   "pygments_lexer": "ipython3",
   "version": "3.7.1"
  },
  "toc": {
   "base_numbering": 1,
   "nav_menu": {},
   "number_sections": true,
   "sideBar": true,
   "skip_h1_title": false,
   "title_cell": "Table of Contents",
   "title_sidebar": "Contents",
   "toc_cell": false,
   "toc_position": {},
   "toc_section_display": true,
   "toc_window_display": false
  }
 },
 "nbformat": 4,
 "nbformat_minor": 2
}

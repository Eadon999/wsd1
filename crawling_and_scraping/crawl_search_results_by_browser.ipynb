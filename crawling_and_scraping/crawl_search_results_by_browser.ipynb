{
 "cells": [
  {
   "cell_type": "code",
   "execution_count": 1,
   "metadata": {},
   "outputs": [],
   "source": [
    "#Selenium(自動でブラウザを操作するライブラリ)を使って\n",
    "#レシピの検索結果をクローリングするプログラム"
   ]
  },
  {
   "cell_type": "code",
   "execution_count": 2,
   "metadata": {
    "ExecuteTime": {
     "end_time": "2018-12-04T13:24:41.529793Z",
     "start_time": "2018-12-04T13:24:41.522775Z"
    }
   },
   "outputs": [],
   "source": [
    "import requests\n",
    "from bs4 import BeautifulSoup\n",
    "from urllib.parse import urljoin\n",
    "from getpass import getpass\n",
    "from selenium import webdriver\n",
    "import os\n",
    "import time"
   ]
  },
  {
   "cell_type": "code",
   "execution_count": 3,
   "metadata": {
    "ExecuteTime": {
     "end_time": "2018-12-04T13:20:01.252358Z",
     "start_time": "2018-12-04T13:19:48.983706Z"
    }
   },
   "outputs": [
    {
     "name": "stdout",
     "output_type": "stream",
     "text": [
      "パスワードを入力\n",
      "········\n"
     ]
    }
   ],
   "source": [
    "# cookpadのメールアドレスとパスワード\n",
    "# プレミアムユーザーになっておく\n",
    "mail_address = 's0327ponko@hotmail.co.jp'\n",
    "print('パスワードを入力')\n",
    "password = getpass()"
   ]
  },
  {
   "cell_type": "code",
   "execution_count": 4,
   "metadata": {
    "ExecuteTime": {
     "end_time": "2018-12-04T13:23:13.700248Z",
     "start_time": "2018-12-04T13:22:56.044328Z"
    }
   },
   "outputs": [],
   "source": [
    "# geckodriverをbrewで予めインストールしておく必要がある\n",
    "browser = webdriver.Firefox()\n",
    "login_url= \"https://cookpad.com/identity/session/new\"\n",
    "browser.get(login_url)\n",
    "\n",
    "browser.find_element_by_name('identifier').send_keys(mail_address)\n",
    "browser.find_element_by_name('password').send_keys(password)\n",
    "\n",
    "browser.find_element_by_class_name(\"submit_button_wrapper\").click()"
   ]
  },
  {
   "cell_type": "code",
   "execution_count": 5,
   "metadata": {
    "ExecuteTime": {
     "start_time": "2018-12-04T13:24:52.554Z"
    }
   },
   "outputs": [],
   "source": [
    "os.makedirs('search_results', exist_ok=True)\n",
    "\n",
    "n_search_results = 2\n",
    "urls = [\"https://cookpad.com/category/177?order=popularity\"\\\n",
    "        \"&page={}\".format(n) for n in range(1, n_search_results+1)]\n",
    "for n, url in enumerate(urls, start=1):\n",
    "    time.sleep(1)\n",
    "    browser.get(url)\n",
    "    with open('search_results/page{}.html'.format(n), 'w') as f:\n",
    "        f.write(browser.page_source)"
   ]
  },
  {
   "cell_type": "code",
   "execution_count": 6,
   "metadata": {},
   "outputs": [],
   "source": [
    "driver.close()\n",
    "\n",
    "# パスワードをメモリ上から消す\n",
    "del password"
   ]
  }
 ],
 "metadata": {
  "kernelspec": {
   "display_name": "Python 3",
   "language": "python",
   "name": "python3"
  },
  "language_info": {
   "codemirror_mode": {
    "name": "ipython",
    "version": 3
   },
   "file_extension": ".py",
   "mimetype": "text/x-python",
   "name": "python",
   "nbconvert_exporter": "python",
   "pygments_lexer": "ipython3",
   "version": "3.7.1"
  },
  "toc": {
   "base_numbering": 1,
   "nav_menu": {},
   "number_sections": true,
   "sideBar": true,
   "skip_h1_title": false,
   "title_cell": "Table of Contents",
   "title_sidebar": "Contents",
   "toc_cell": false,
   "toc_position": {},
   "toc_section_display": true,
   "toc_window_display": false
  }
 },
 "nbformat": 4,
 "nbformat_minor": 2
}

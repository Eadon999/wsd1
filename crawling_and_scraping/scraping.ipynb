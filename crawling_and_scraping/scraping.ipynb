{
 "cells": [
  {
   "cell_type": "code",
   "execution_count": 1,
   "metadata": {
    "ExecuteTime": {
     "end_time": "2018-12-06T13:12:45.129089Z",
     "start_time": "2018-12-06T13:12:44.851926Z"
    }
   },
   "outputs": [],
   "source": [
    "from bs4 import BeautifulSoup\n",
    "import json\n",
    "import os"
   ]
  },
  {
   "cell_type": "code",
   "execution_count": 2,
   "metadata": {
    "ExecuteTime": {
     "end_time": "2018-12-06T13:12:45.521737Z",
     "start_time": "2018-12-06T13:12:45.502873Z"
    }
   },
   "outputs": [],
   "source": [
    "def get_categories(soup):\n",
    "    \"\"\"\n",
    "    ['今日のご飯・おかず/野菜のおかず/旬野菜（秋・冬）/さつまいも',\n",
    "    '今日のご飯・おかず/野菜のおかず/旬野菜（秋・冬）/れんこん']\n",
    "    \"\"\"\n",
    "    tag_div = soup.find(id='category')\n",
    "    if tag_div is None:\n",
    "        return None\n",
    "    tags_li = tag_div.find_all(class_='with_icon_arrow')\n",
    "    categories = []\n",
    "    for tag_li in tags_li:\n",
    "        tags_a = tag_li.find_all('a')\n",
    "        hierarchical_category = '/'.join(tag_a.get_text() for tag_a in tags_a)\n",
    "        categories.append(hierarchical_category)\n",
    "    return categories\n",
    "\n",
    "def get_rankings(soup):\n",
    "    \"\"\"\n",
    "    ['さつまいも 2位', 'れんこん 4位', 'デパ地下 1位']\n",
    "    \"\"\"\n",
    "    tag_div = soup.find(id='keyword_ranking_wrapper')\n",
    "    if tag_div is None:\n",
    "        return None\n",
    "    tags_li = tag_div.find_all(class_='with_icon_arrow')\n",
    "    rankings = []\n",
    "    for tag_li in tags_li:\n",
    "        category = tag_li.find(class_='keyword_ranking_link').get_text()\n",
    "        ranking = tag_li.find(class_='bold rank').get_text().strip('\\n')\n",
    "        rankings.append('{} {}'.format(category, ranking))\n",
    "    return rankings\n",
    "\n",
    "def get_related_keywords(soup):\n",
    "    \"\"\"\n",
    "    ['さつまいも', 'れんこん', 'れんこん さつまいも', 'れんこん さつまいも デパ地下']\n",
    "    \"\"\"\n",
    "    tag_ul = soup.find(class_='related_keywords')\n",
    "    if tag_ul is None:\n",
    "        return None\n",
    "    tags_li = tag_ul.find_all(class_='with_icon_arrow')\n",
    "    related_keywords = [tag_li.find('a').get_text() for tag_li in tags_li]\n",
    "    return related_keywords"
   ]
  },
  {
   "cell_type": "code",
   "execution_count": 3,
   "metadata": {
    "ExecuteTime": {
     "end_time": "2018-12-06T13:12:46.352720Z",
     "start_time": "2018-12-06T13:12:46.342177Z"
    }
   },
   "outputs": [],
   "source": [
    "def scrape_recipe(path_to_html):\n",
    "    \"\"\"\n",
    "    cookpadのレシピのhtmlから\n",
    "    各属性を取得し、辞書として返す\n",
    "    \"\"\"\n",
    "    # html中の先頭のメタデータ？のような部分に\n",
    "    # json形式でほとんどのデータが掲載されている\n",
    "    with open(path_to_html) as f:\n",
    "        soup = BeautifulSoup(f)\n",
    "    text = soup.find(type=\"application/ld+json\").get_text().strip('\\n')\n",
    "    d = json.loads(text)\n",
    "    \n",
    "    # レシピID、「コツ・ポイント」、「レシピの生い立ち」、\n",
    "    # カテゴリー、ランキング、関連キーワードを抽出\n",
    "    id_ = soup.find('span', class_='recipe_id').get_text().strip('\\n').lstrip('レシピID: ')\n",
    "    advice = soup.find(id='advice').get_text().strip('\\n')\n",
    "    history = soup.find(id='history').get_text().strip('\\n')\n",
    "    categories = get_categories(soup)\n",
    "    rankings = get_rankings(soup)\n",
    "    related_keywords = get_related_keywords(soup)\n",
    "    \n",
    "    d['recipe_id'] = id_\n",
    "    d['advice'] = advice\n",
    "    d['history'] = history\n",
    "    d['categories'] = categories\n",
    "    d['rankings'] = rankings\n",
    "    d['related_keywords'] = related_keywords\n",
    "    \n",
    "    return d"
   ]
  },
  {
   "cell_type": "code",
   "execution_count": 4,
   "metadata": {
    "ExecuteTime": {
     "end_time": "2018-12-06T13:12:46.984802Z",
     "start_time": "2018-12-06T13:12:46.847152Z"
    }
   },
   "outputs": [
    {
     "data": {
      "text/plain": [
       "{'@context': 'http://schema.org',\n",
       " '@type': 'Recipe',\n",
       " 'name': '簡単！激ウマ！甘辛の豚バラ大根',\n",
       " 'author': {'@type': 'Person', 'name': 'ナウちゃん'},\n",
       " 'image': 'https://img.cpcdn.com/recipes/2543737/464x260/49ba01cc5d66b8e44e415fd473e3d5ce.jpg?u=8848832&p=1397198218',\n",
       " 'datePublished': '2014-03-14',\n",
       " 'description': '殿堂入り！つくれぽ3300件感謝です！砂糖を加えてコクを出し、ごま油風味に仕上げました。',\n",
       " 'recipeYield': '4人分',\n",
       " 'recipeIngredient': ['大根 1/3本',\n",
       "  '豚バラ肉 150g',\n",
       "  'ごま油(炒め用) 大さじ1',\n",
       "  '●醤油・みりん・砂糖 各大さじ2',\n",
       "  '●ほんだし(顆粒) 小さじ1/2',\n",
       "  '●水 200cc',\n",
       "  '万能ねぎ(小口切り) 適量'],\n",
       " 'recipeInstructions': ['下ごしらえ\\n\\n・肉:3cmに切る\\n・大根:厚さ1cmの銀杏切り\\n・万能ねぎ:小口切り\\n・●印の調味料を合わせる\\n',\n",
       "  '肉を炒める\\n\\n鍋にごま油しき、豚バラ肉を入れ、中火で炒める。',\n",
       "  '大根を炒める\\n\\n豚バラ肉に火が通ったら、大根を入れ、中火で炒める。',\n",
       "  '味付け\\n\\n●印の合わせ調味料を入れて、味付けをする。',\n",
       "  '煮込み\\n\\n強火で灰汁を採りながら煮詰めて、煮汁が少し残る程度まで煮込む。',\n",
       "  '盛り付け\\n\\n器に盛り付けて、万能ねぎを振り掛けて出来上がり。'],\n",
       " 'cookTime': 'PT30M',\n",
       " 'recipe_id': '2543737',\n",
       " 'advice': '・特に難しい点はありません。しいて言えば、煮詰める際には、煮汁が少なくなるまで煮詰めるので、焦がさないように注意してくさい＾＾甘さ控え目希望の方は砂糖大さじ１もオススメです。',\n",
       " 'history': '砂糖を加えてコクを出すことで、我が家の味付け風にしてみました。今では家族みんな、このレシピを楽しみにしています＾＾ｖ',\n",
       " 'categories': ['今日のご飯・おかず/野菜のおかず/旬野菜（秋・冬）/大根', '今日のご飯・おかず/お肉のおかず/豚肉/豚バラ肉'],\n",
       " 'rankings': ['大根 4位', '豚肉 2位', '簡単 3位', '豚バラ大根 3位'],\n",
       " 'related_keywords': ['大根', '大根 豚肉', '豚バラ大根', '豚バラ']}"
      ]
     },
     "execution_count": 4,
     "metadata": {},
     "output_type": "execute_result"
    }
   ],
   "source": [
    "scrape_recipe('recipes/page1.html')"
   ]
  },
  {
   "cell_type": "code",
   "execution_count": 5,
   "metadata": {
    "ExecuteTime": {
     "end_time": "2018-12-05T09:31:45.564742Z",
     "start_time": "2018-12-05T09:31:45.556386Z"
    }
   },
   "outputs": [],
   "source": [
    "n_search_results = 2\n",
    "NRECIPE_PER_SEARCH_RESULT = 10\n",
    "n_recipes = NRECIPE_PER_SEARCH_RESULT * n_search_results\n",
    "paths = ['recipes/page{}.html'.format(n) for n in range(1, n_recipes+1)]"
   ]
  },
  {
   "cell_type": "code",
   "execution_count": 6,
   "metadata": {
    "ExecuteTime": {
     "end_time": "2018-12-04T17:58:22.976649Z",
     "start_time": "2018-12-04T17:52:06.104744Z"
    }
   },
   "outputs": [],
   "source": [
    "os.makedirs('recipe_jsons', exist_ok=True)\n",
    "\n",
    "for path in paths:\n",
    "    d = scrape_recipe(path)\n",
    "    recipe_id = d['recipe_id']\n",
    "    # 結果をjson形式で保存\n",
    "    with open('recipe_jsons/recipe{}.json'.format(recipe_id), 'w') as f:\n",
    "        json.dump(d, f, ensure_ascii=False, indent=4)  "
   ]
  },
  {
   "cell_type": "code",
   "execution_count": null,
   "metadata": {},
   "outputs": [],
   "source": []
  }
 ],
 "metadata": {
  "kernelspec": {
   "display_name": "Python 3",
   "language": "python",
   "name": "python3"
  },
  "language_info": {
   "codemirror_mode": {
    "name": "ipython",
    "version": 3
   },
   "file_extension": ".py",
   "mimetype": "text/x-python",
   "name": "python",
   "nbconvert_exporter": "python",
   "pygments_lexer": "ipython3",
   "version": "3.7.1"
  },
  "toc": {
   "base_numbering": 1,
   "nav_menu": {},
   "number_sections": true,
   "sideBar": true,
   "skip_h1_title": false,
   "title_cell": "Table of Contents",
   "title_sidebar": "Contents",
   "toc_cell": false,
   "toc_position": {},
   "toc_section_display": true,
   "toc_window_display": false
  }
 },
 "nbformat": 4,
 "nbformat_minor": 2
}
